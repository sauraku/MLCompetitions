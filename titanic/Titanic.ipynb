{
 "cells": [
  {
   "cell_type": "code",
   "execution_count": 64,
   "id": "806cdb63",
   "metadata": {},
   "outputs": [],
   "source": [
    "import numpy as np\n",
    "import pandas as pd\n",
    "\n",
    "from sklearn import preprocessing\n",
    "from sklearn.linear_model import LogisticRegression\n",
    "from sklearn.model_selection import train_test_split\n",
    "from sklearn.metrics import accuracy_score\n",
    "from sklearn.tree import DecisionTreeClassifier\n",
    "from sklearn.naive_bayes import GaussianNB"
   ]
  },
  {
   "cell_type": "code",
   "execution_count": 65,
   "id": "51117250",
   "metadata": {},
   "outputs": [],
   "source": [
    "le = preprocessing.LabelEncoder()"
   ]
  },
  {
   "cell_type": "code",
   "execution_count": 75,
   "id": "712ad4f3",
   "metadata": {},
   "outputs": [
    {
     "name": "stdout",
     "output_type": "stream",
     "text": [
      "   Survived  Pclass  Sex   Age  SibSp  Parch     Fare  Embarked\n",
      "0         0       3    1  22.0      1      0   7.2500         2\n",
      "1         1       1    0  38.0      1      0  71.2833         0\n",
      "2         1       3    0  26.0      0      0   7.9250         2\n",
      "3         1       1    0  35.0      1      0  53.1000         2\n",
      "4         0       3    1  35.0      0      0   8.0500         2\n"
     ]
    }
   ],
   "source": [
    "def cleanData(data):\n",
    "    colsToDrop = [\"PassengerId\", \"Name\", \"Ticket\", \"Cabin\"]\n",
    "    data = data.drop(columns=colsToDrop, axis=1)\n",
    "    data['Embarked'] = data['Embarked'].fillna(value='U')\n",
    "    colsToFill = ['SibSp', 'Parch', \"Fare\", \"Age\"]\n",
    "    for col in colsToFill:\n",
    "        data[col].fillna(data[col].mean(), inplace=True)\n",
    "    return data\n",
    "\n",
    "\n",
    "trainData = pd.read_csv('train.csv')\n",
    "testData = pd.read_csv('test.csv')\n",
    "testID = testData['PassengerId']\n",
    "\n",
    "trainData = cleanData(trainData)\n",
    "testData = cleanData(testData)\n",
    "\n",
    "colsToClass = ['Sex','Embarked' ]\n",
    "for col in colsToClass:\n",
    "    trainData[col] = le.fit_transform(trainData[col])\n",
    "    testData[col] = le.transform(testData[col])\n",
    "\n",
    "print(trainData.head())"
   ]
  },
  {
   "cell_type": "code",
   "execution_count": 76,
   "id": "086cbda8",
   "metadata": {},
   "outputs": [],
   "source": [
    "Y = trainData['Survived']\n",
    "X = trainData.drop(['Survived'], axis=1)\n",
    "trainX, valX,trainY, valY = train_test_split(X,Y,test_size=0.2)"
   ]
  },
  {
   "cell_type": "code",
   "execution_count": 77,
   "id": "a418fb93",
   "metadata": {},
   "outputs": [
    {
     "data": {
      "text/plain": [
       "0.8324022346368715"
      ]
     },
     "execution_count": 77,
     "metadata": {},
     "output_type": "execute_result"
    }
   ],
   "source": [
    "clf = LogisticRegression().fit(trainX,trainY)\n",
    "predY = clf.predict(valX)\n",
    "accuracy_score(predY, valY)"
   ]
  },
  {
   "cell_type": "code",
   "execution_count": 78,
   "id": "99146e04",
   "metadata": {},
   "outputs": [
    {
     "data": {
      "text/plain": [
       "0.8100558659217877"
      ]
     },
     "execution_count": 78,
     "metadata": {},
     "output_type": "execute_result"
    }
   ],
   "source": [
    "DTclf = DecisionTreeClassifier().fit(trainX,trainY)\n",
    "predY = DTclf.predict(valX)\n",
    "accuracy_score(predY, valY)"
   ]
  },
  {
   "cell_type": "code",
   "execution_count": 79,
   "id": "65769893",
   "metadata": {},
   "outputs": [
    {
     "data": {
      "text/plain": [
       "0.8044692737430168"
      ]
     },
     "execution_count": 79,
     "metadata": {},
     "output_type": "execute_result"
    }
   ],
   "source": [
    "GNBclf = GaussianNB().fit(trainX,trainY)\n",
    "predY = GNBclf.predict(valX)\n",
    "accuracy_score(predY, valY)"
   ]
  },
  {
   "cell_type": "code",
   "execution_count": null,
   "id": "59868409",
   "metadata": {},
   "outputs": [],
   "source": []
  },
  {
   "cell_type": "code",
   "execution_count": null,
   "id": "b9283628",
   "metadata": {},
   "outputs": [],
   "source": []
  },
  {
   "cell_type": "code",
   "execution_count": 83,
   "id": "5d55ddc4",
   "metadata": {},
   "outputs": [],
   "source": [
    "preds = clf.predict(testData)\n",
    "results = pd.DataFrame({\"PassengerId\": testID, \"Survived\": preds})\n",
    "results.to_csv(\"results.csv\", sep=',',index=False)"
   ]
  },
  {
   "cell_type": "code",
   "execution_count": null,
   "id": "61b9e0b9",
   "metadata": {},
   "outputs": [],
   "source": []
  }
 ],
 "metadata": {
  "kernelspec": {
   "display_name": "Python 3",
   "language": "python",
   "name": "python3"
  },
  "language_info": {
   "codemirror_mode": {
    "name": "ipython",
    "version": 3
   },
   "file_extension": ".py",
   "mimetype": "text/x-python",
   "name": "python",
   "nbconvert_exporter": "python",
   "pygments_lexer": "ipython3",
   "version": "3.8.16"
  }
 },
 "nbformat": 4,
 "nbformat_minor": 5
}
