{
 "cells": [
  {
   "cell_type": "code",
   "execution_count": 1,
   "id": "726d2a98",
   "metadata": {},
   "outputs": [],
   "source": [
    "import numpy as np\n",
    "import pandas as pd\n",
    "import pickle\n",
    "import tensorflow as tf\n",
    "from tensorflow import keras\n",
    "from keras.models import Sequential,Model\n",
    "from keras.layers import Conv2D,MaxPooling2D,Dropout,Flatten,Dense,MaxPool2D,BatchNormalization\n",
    "from tensorflow.keras.preprocessing.image import ImageDataGenerator,load_img\n",
    "from tensorflow.keras.optimizers.legacy import RMSprop,Adam\n",
    "from tensorflow.keras.applications.inception_v3 import InceptionV3\n",
    "from keras.callbacks import EarlyStopping, ReduceLROnPlateau\n",
    "from keras.utils.data_utils import get_file\n",
    "from keras.utils.np_utils import to_categorical\n",
    "\n",
    "\n",
    "import os\n",
    "import random\n",
    "import zipfile\n",
    "%matplotlib inline\n",
    "import matplotlib.pyplot as plt\n",
    "from IPython.display import Image\n",
    "plt.style.use('ggplot')\n",
    "import seaborn as sns\n",
    "from sklearn.model_selection import train_test_split\n",
    "from sklearn.metrics import f1_score,confusion_matrix,accuracy_score,precision_score,recall_score"
   ]
  },
  {
   "cell_type": "code",
   "execution_count": 2,
   "id": "96266614",
   "metadata": {},
   "outputs": [
    {
     "name": "stdout",
     "output_type": "stream",
     "text": [
      "[PhysicalDevice(name='/physical_device:GPU:0', device_type='GPU')]\n"
     ]
    }
   ],
   "source": [
    "try:\n",
    "    GPUlist = tf.config.list_physical_devices('GPU')\n",
    "    print(GPUlist)\n",
    "    for i in GPUlist:\n",
    "        tf.config.experimental.set_memory_growth(i, True)\n",
    "except:\n",
    "    pass"
   ]
  },
  {
   "cell_type": "code",
   "execution_count": 3,
   "id": "c4b12765",
   "metadata": {},
   "outputs": [
    {
     "data": {
      "text/html": [
       "<div>\n",
       "<style scoped>\n",
       "    .dataframe tbody tr th:only-of-type {\n",
       "        vertical-align: middle;\n",
       "    }\n",
       "\n",
       "    .dataframe tbody tr th {\n",
       "        vertical-align: top;\n",
       "    }\n",
       "\n",
       "    .dataframe thead th {\n",
       "        text-align: right;\n",
       "    }\n",
       "</style>\n",
       "<table border=\"1\" class=\"dataframe\">\n",
       "  <thead>\n",
       "    <tr style=\"text-align: right;\">\n",
       "      <th></th>\n",
       "      <th>label</th>\n",
       "      <th>pixel0</th>\n",
       "      <th>pixel1</th>\n",
       "      <th>pixel2</th>\n",
       "      <th>pixel3</th>\n",
       "      <th>pixel4</th>\n",
       "      <th>pixel5</th>\n",
       "      <th>pixel6</th>\n",
       "      <th>pixel7</th>\n",
       "      <th>pixel8</th>\n",
       "      <th>...</th>\n",
       "      <th>pixel774</th>\n",
       "      <th>pixel775</th>\n",
       "      <th>pixel776</th>\n",
       "      <th>pixel777</th>\n",
       "      <th>pixel778</th>\n",
       "      <th>pixel779</th>\n",
       "      <th>pixel780</th>\n",
       "      <th>pixel781</th>\n",
       "      <th>pixel782</th>\n",
       "      <th>pixel783</th>\n",
       "    </tr>\n",
       "  </thead>\n",
       "  <tbody>\n",
       "    <tr>\n",
       "      <th>0</th>\n",
       "      <td>1</td>\n",
       "      <td>0</td>\n",
       "      <td>0</td>\n",
       "      <td>0</td>\n",
       "      <td>0</td>\n",
       "      <td>0</td>\n",
       "      <td>0</td>\n",
       "      <td>0</td>\n",
       "      <td>0</td>\n",
       "      <td>0</td>\n",
       "      <td>...</td>\n",
       "      <td>0</td>\n",
       "      <td>0</td>\n",
       "      <td>0</td>\n",
       "      <td>0</td>\n",
       "      <td>0</td>\n",
       "      <td>0</td>\n",
       "      <td>0</td>\n",
       "      <td>0</td>\n",
       "      <td>0</td>\n",
       "      <td>0</td>\n",
       "    </tr>\n",
       "    <tr>\n",
       "      <th>1</th>\n",
       "      <td>0</td>\n",
       "      <td>0</td>\n",
       "      <td>0</td>\n",
       "      <td>0</td>\n",
       "      <td>0</td>\n",
       "      <td>0</td>\n",
       "      <td>0</td>\n",
       "      <td>0</td>\n",
       "      <td>0</td>\n",
       "      <td>0</td>\n",
       "      <td>...</td>\n",
       "      <td>0</td>\n",
       "      <td>0</td>\n",
       "      <td>0</td>\n",
       "      <td>0</td>\n",
       "      <td>0</td>\n",
       "      <td>0</td>\n",
       "      <td>0</td>\n",
       "      <td>0</td>\n",
       "      <td>0</td>\n",
       "      <td>0</td>\n",
       "    </tr>\n",
       "    <tr>\n",
       "      <th>2</th>\n",
       "      <td>1</td>\n",
       "      <td>0</td>\n",
       "      <td>0</td>\n",
       "      <td>0</td>\n",
       "      <td>0</td>\n",
       "      <td>0</td>\n",
       "      <td>0</td>\n",
       "      <td>0</td>\n",
       "      <td>0</td>\n",
       "      <td>0</td>\n",
       "      <td>...</td>\n",
       "      <td>0</td>\n",
       "      <td>0</td>\n",
       "      <td>0</td>\n",
       "      <td>0</td>\n",
       "      <td>0</td>\n",
       "      <td>0</td>\n",
       "      <td>0</td>\n",
       "      <td>0</td>\n",
       "      <td>0</td>\n",
       "      <td>0</td>\n",
       "    </tr>\n",
       "    <tr>\n",
       "      <th>3</th>\n",
       "      <td>4</td>\n",
       "      <td>0</td>\n",
       "      <td>0</td>\n",
       "      <td>0</td>\n",
       "      <td>0</td>\n",
       "      <td>0</td>\n",
       "      <td>0</td>\n",
       "      <td>0</td>\n",
       "      <td>0</td>\n",
       "      <td>0</td>\n",
       "      <td>...</td>\n",
       "      <td>0</td>\n",
       "      <td>0</td>\n",
       "      <td>0</td>\n",
       "      <td>0</td>\n",
       "      <td>0</td>\n",
       "      <td>0</td>\n",
       "      <td>0</td>\n",
       "      <td>0</td>\n",
       "      <td>0</td>\n",
       "      <td>0</td>\n",
       "    </tr>\n",
       "    <tr>\n",
       "      <th>4</th>\n",
       "      <td>0</td>\n",
       "      <td>0</td>\n",
       "      <td>0</td>\n",
       "      <td>0</td>\n",
       "      <td>0</td>\n",
       "      <td>0</td>\n",
       "      <td>0</td>\n",
       "      <td>0</td>\n",
       "      <td>0</td>\n",
       "      <td>0</td>\n",
       "      <td>...</td>\n",
       "      <td>0</td>\n",
       "      <td>0</td>\n",
       "      <td>0</td>\n",
       "      <td>0</td>\n",
       "      <td>0</td>\n",
       "      <td>0</td>\n",
       "      <td>0</td>\n",
       "      <td>0</td>\n",
       "      <td>0</td>\n",
       "      <td>0</td>\n",
       "    </tr>\n",
       "  </tbody>\n",
       "</table>\n",
       "<p>5 rows × 785 columns</p>\n",
       "</div>"
      ],
      "text/plain": [
       "   label  pixel0  pixel1  pixel2  pixel3  pixel4  pixel5  pixel6  pixel7  \\\n",
       "0      1       0       0       0       0       0       0       0       0   \n",
       "1      0       0       0       0       0       0       0       0       0   \n",
       "2      1       0       0       0       0       0       0       0       0   \n",
       "3      4       0       0       0       0       0       0       0       0   \n",
       "4      0       0       0       0       0       0       0       0       0   \n",
       "\n",
       "   pixel8  ...  pixel774  pixel775  pixel776  pixel777  pixel778  pixel779  \\\n",
       "0       0  ...         0         0         0         0         0         0   \n",
       "1       0  ...         0         0         0         0         0         0   \n",
       "2       0  ...         0         0         0         0         0         0   \n",
       "3       0  ...         0         0         0         0         0         0   \n",
       "4       0  ...         0         0         0         0         0         0   \n",
       "\n",
       "   pixel780  pixel781  pixel782  pixel783  \n",
       "0         0         0         0         0  \n",
       "1         0         0         0         0  \n",
       "2         0         0         0         0  \n",
       "3         0         0         0         0  \n",
       "4         0         0         0         0  \n",
       "\n",
       "[5 rows x 785 columns]"
      ]
     },
     "execution_count": 3,
     "metadata": {},
     "output_type": "execute_result"
    }
   ],
   "source": [
    "trainCSV = pd.read_csv('train.csv')\n",
    "testCSV = pd.read_csv('test.csv')\n",
    "trainCSV.head()"
   ]
  },
  {
   "cell_type": "code",
   "execution_count": 4,
   "id": "d5cb0e19",
   "metadata": {},
   "outputs": [],
   "source": [
    "trainY = trainCSV['label']\n",
    "trainX = trainCSV.drop(columns=['label'], axis=1)\n",
    "trainX = trainX/255.0\n",
    "testX = testCSV/255.0"
   ]
  },
  {
   "cell_type": "code",
   "execution_count": 5,
   "id": "0ac32a97",
   "metadata": {},
   "outputs": [
    {
     "name": "stdout",
     "output_type": "stream",
     "text": [
      "trainX: (33600, 28, 28, 1)\n",
      "testX: (28000, 28, 28, 1)\n",
      "trainY: (33600, 10)\n"
     ]
    }
   ],
   "source": [
    "trainX = trainX.values.reshape(-1,28,28,1)\n",
    "testX = testX.values.reshape(-1,28,28,1)\n",
    "trainY = to_categorical(trainY, num_classes = 10)\n",
    "trainX, valX, trainY, valY = train_test_split(trainX, trainY, test_size = 0.2)\n",
    "\n",
    "print(\"trainX:\", trainX.shape)\n",
    "print(\"testX:\", testX.shape)\n",
    "print(\"trainY:\", trainY.shape)"
   ]
  },
  {
   "cell_type": "code",
   "execution_count": 6,
   "id": "021240c3",
   "metadata": {},
   "outputs": [
    {
     "name": "stdout",
     "output_type": "stream",
     "text": [
      "Model: \"sequential\"\n",
      "_________________________________________________________________\n",
      " Layer (type)                Output Shape              Param #   \n",
      "=================================================================\n",
      " conv2d (Conv2D)             (None, 28, 28, 32)        1600      \n",
      "                                                                 \n",
      " batch_normalization (BatchN  (None, 28, 28, 32)       128       \n",
      " ormalization)                                                   \n",
      "                                                                 \n",
      " conv2d_1 (Conv2D)           (None, 28, 28, 32)        25632     \n",
      "                                                                 \n",
      " batch_normalization_1 (Batc  (None, 28, 28, 32)       128       \n",
      " hNormalization)                                                 \n",
      "                                                                 \n",
      " max_pooling2d (MaxPooling2D  (None, 14, 14, 32)       0         \n",
      " )                                                               \n",
      "                                                                 \n",
      " conv2d_2 (Conv2D)           (None, 14, 14, 64)        18496     \n",
      "                                                                 \n",
      " batch_normalization_2 (Batc  (None, 14, 14, 64)       256       \n",
      " hNormalization)                                                 \n",
      "                                                                 \n",
      " conv2d_3 (Conv2D)           (None, 14, 14, 64)        36928     \n",
      "                                                                 \n",
      " batch_normalization_3 (Batc  (None, 14, 14, 64)       256       \n",
      " hNormalization)                                                 \n",
      "                                                                 \n",
      " max_pooling2d_1 (MaxPooling  (None, 7, 7, 64)         0         \n",
      " 2D)                                                             \n",
      "                                                                 \n",
      " flatten (Flatten)           (None, 3136)              0         \n",
      "                                                                 \n",
      " dense (Dense)               (None, 256)               803072    \n",
      "                                                                 \n",
      " dropout (Dropout)           (None, 256)               0         \n",
      "                                                                 \n",
      " dense_1 (Dense)             (None, 10)                2570      \n",
      "                                                                 \n",
      "=================================================================\n",
      "Total params: 889,066\n",
      "Trainable params: 888,682\n",
      "Non-trainable params: 384\n",
      "_________________________________________________________________\n"
     ]
    }
   ],
   "source": [
    "model = Sequential()\n",
    "model.add(Conv2D(filters=32, kernel_size = (7,7), padding='Same', activation='relu', input_shape=(28,28,1)))\n",
    "model.add(BatchNormalization())\n",
    "model.add(Conv2D(filters=32, kernel_size = (5,5), padding='Same', activation='relu', input_shape=(28,28,1)))\n",
    "model.add(BatchNormalization())\n",
    "\n",
    "model.add(MaxPool2D(pool_size=(2,2)))\n",
    "\n",
    "model.add(Conv2D(filters=64, kernel_size = (3,3), padding='Same', activation='relu', input_shape=(28,28,1)))\n",
    "model.add(BatchNormalization())\n",
    "model.add(Conv2D(filters=64, kernel_size = (3,3), padding='Same', activation='relu', input_shape=(28,28,1)))\n",
    "model.add(BatchNormalization())\n",
    "\n",
    "model.add(MaxPool2D(pool_size=(2,2)))\n",
    "\n",
    "model.add(Flatten())\n",
    "model.add(Dense(256, activation = \"relu\"))\n",
    "model.add(Dropout(0.5))\n",
    "model.add(Dense(10, activation = \"softmax\"))\n",
    "\n",
    "model.summary()"
   ]
  },
  {
   "cell_type": "code",
   "execution_count": 7,
   "id": "87585a29",
   "metadata": {},
   "outputs": [
    {
     "name": "stderr",
     "output_type": "stream",
     "text": [
      "/Users/sauraku/mambaforge/envs/mc/lib/python3.8/site-packages/keras/optimizers/optimizer_v2/adam.py:117: UserWarning: The `lr` argument is deprecated, use `learning_rate` instead.\n",
      "  super().__init__(name, **kwargs)\n"
     ]
    }
   ],
   "source": [
    "model.compile(optimizer=Adam(lr=0.01), loss=\"categorical_crossentropy\", metrics=[\"accuracy\"])\n",
    "learning_rate_reduction = ReduceLROnPlateau(monitor='val_accuracy', patience=3, verbose=1, factor=0.5, min_lr=0.00001)\n",
    "# earlystop = EarlyStopping(monitor='val_loss',patience=4,verbose=1)\n",
    "callbacks = [learning_rate_reduction] #+ [earlystop]"
   ]
  },
  {
   "cell_type": "code",
   "execution_count": 8,
   "id": "4bd8142e",
   "metadata": {},
   "outputs": [],
   "source": [
    "train_datagen = ImageDataGenerator(rotation_range=30,\n",
    "                                   width_shift_range=0.2,\n",
    "                                   height_shift_range=0.2,\n",
    "                                   shear_range=0.1,\n",
    "                                   zoom_range=0.1,\n",
    "                                   horizontal_flip=False,\n",
    "                                   fill_mode='nearest')"
   ]
  },
  {
   "cell_type": "code",
   "execution_count": 9,
   "id": "67d17f5b",
   "metadata": {},
   "outputs": [
    {
     "name": "stdout",
     "output_type": "stream",
     "text": [
      "Epoch 1/30\n",
      "525/525 [==============================] - 13s 24ms/step - loss: 2.2639 - accuracy: 0.2204 - val_loss: 1.6494 - val_accuracy: 0.3783 - lr: 0.0100\n",
      "Epoch 2/30\n",
      "525/525 [==============================] - 13s 24ms/step - loss: 1.6905 - accuracy: 0.3575 - val_loss: 1.1364 - val_accuracy: 0.6664 - lr: 0.0100\n",
      "Epoch 3/30\n",
      "525/525 [==============================] - 13s 24ms/step - loss: 0.9709 - accuracy: 0.6638 - val_loss: 0.6821 - val_accuracy: 0.8443 - lr: 0.0100\n",
      "Epoch 4/30\n",
      "525/525 [==============================] - 13s 24ms/step - loss: 0.4626 - accuracy: 0.8711 - val_loss: 0.1923 - val_accuracy: 0.9460 - lr: 0.0100\n",
      "Epoch 5/30\n",
      "525/525 [==============================] - 13s 24ms/step - loss: 0.3052 - accuracy: 0.9182 - val_loss: 0.2333 - val_accuracy: 0.9481 - lr: 0.0100\n",
      "Epoch 6/30\n",
      "525/525 [==============================] - 12s 23ms/step - loss: 0.2734 - accuracy: 0.9276 - val_loss: 0.1808 - val_accuracy: 0.9530 - lr: 0.0100\n",
      "Epoch 7/30\n",
      "525/525 [==============================] - 12s 23ms/step - loss: 0.2462 - accuracy: 0.9367 - val_loss: 0.1606 - val_accuracy: 0.9629 - lr: 0.0100\n",
      "Epoch 8/30\n",
      "525/525 [==============================] - 12s 24ms/step - loss: 0.2322 - accuracy: 0.9413 - val_loss: 0.1184 - val_accuracy: 0.9681 - lr: 0.0100\n",
      "Epoch 9/30\n",
      "525/525 [==============================] - 12s 23ms/step - loss: 0.2240 - accuracy: 0.9438 - val_loss: 0.1974 - val_accuracy: 0.9617 - lr: 0.0100\n",
      "Epoch 10/30\n",
      "525/525 [==============================] - 13s 24ms/step - loss: 0.2178 - accuracy: 0.9474 - val_loss: 0.2036 - val_accuracy: 0.9602 - lr: 0.0100\n",
      "Epoch 11/30\n",
      "523/525 [============================>.] - ETA: 0s - loss: 0.2170 - accuracy: 0.9471\n",
      "Epoch 11: ReduceLROnPlateau reducing learning rate to 0.004999999888241291.\n",
      "525/525 [==============================] - 13s 24ms/step - loss: 0.2170 - accuracy: 0.9469 - val_loss: 0.1624 - val_accuracy: 0.9555 - lr: 0.0100\n",
      "Epoch 12/30\n",
      "525/525 [==============================] - 13s 24ms/step - loss: 0.1379 - accuracy: 0.9665 - val_loss: 0.0501 - val_accuracy: 0.9875 - lr: 0.0050\n",
      "Epoch 13/30\n",
      "525/525 [==============================] - 13s 25ms/step - loss: 0.1187 - accuracy: 0.9702 - val_loss: 0.0659 - val_accuracy: 0.9838 - lr: 0.0050\n",
      "Epoch 14/30\n",
      "525/525 [==============================] - 13s 24ms/step - loss: 0.1189 - accuracy: 0.9705 - val_loss: 0.0538 - val_accuracy: 0.9889 - lr: 0.0050\n",
      "Epoch 15/30\n",
      "525/525 [==============================] - 13s 25ms/step - loss: 0.1162 - accuracy: 0.9723 - val_loss: 0.0685 - val_accuracy: 0.9849 - lr: 0.0050\n",
      "Epoch 16/30\n",
      "525/525 [==============================] - 12s 24ms/step - loss: 0.1157 - accuracy: 0.9716 - val_loss: 0.0509 - val_accuracy: 0.9876 - lr: 0.0050\n",
      "Epoch 17/30\n",
      "524/525 [============================>.] - ETA: 0s - loss: 0.1126 - accuracy: 0.9719\n",
      "Epoch 17: ReduceLROnPlateau reducing learning rate to 0.0024999999441206455.\n",
      "525/525 [==============================] - 13s 25ms/step - loss: 0.1126 - accuracy: 0.9719 - val_loss: 0.0536 - val_accuracy: 0.9863 - lr: 0.0050\n",
      "Epoch 18/30\n",
      "525/525 [==============================] - 12s 24ms/step - loss: 0.0859 - accuracy: 0.9778 - val_loss: 0.0418 - val_accuracy: 0.9901 - lr: 0.0025\n",
      "Epoch 19/30\n",
      "525/525 [==============================] - 12s 24ms/step - loss: 0.0843 - accuracy: 0.9794 - val_loss: 0.0394 - val_accuracy: 0.9899 - lr: 0.0025\n",
      "Epoch 20/30\n",
      "525/525 [==============================] - 13s 24ms/step - loss: 0.0770 - accuracy: 0.9794 - val_loss: 0.0472 - val_accuracy: 0.9885 - lr: 0.0025\n",
      "Epoch 21/30\n",
      "525/525 [==============================] - 13s 25ms/step - loss: 0.0780 - accuracy: 0.9805 - val_loss: 0.0371 - val_accuracy: 0.9905 - lr: 0.0025\n",
      "Epoch 22/30\n",
      "525/525 [==============================] - 13s 24ms/step - loss: 0.0778 - accuracy: 0.9807 - val_loss: 0.0387 - val_accuracy: 0.9911 - lr: 0.0025\n",
      "Epoch 23/30\n",
      "525/525 [==============================] - 13s 24ms/step - loss: 0.0759 - accuracy: 0.9811 - val_loss: 0.0366 - val_accuracy: 0.9917 - lr: 0.0025\n",
      "Epoch 24/30\n",
      "525/525 [==============================] - 13s 24ms/step - loss: 0.0695 - accuracy: 0.9821 - val_loss: 0.0419 - val_accuracy: 0.9901 - lr: 0.0025\n",
      "Epoch 25/30\n",
      "525/525 [==============================] - 13s 24ms/step - loss: 0.0722 - accuracy: 0.9815 - val_loss: 0.0448 - val_accuracy: 0.9889 - lr: 0.0025\n",
      "Epoch 26/30\n",
      "525/525 [==============================] - ETA: 0s - loss: 0.0775 - accuracy: 0.9803\n",
      "Epoch 26: ReduceLROnPlateau reducing learning rate to 0.0012499999720603228.\n",
      "525/525 [==============================] - 13s 24ms/step - loss: 0.0775 - accuracy: 0.9803 - val_loss: 0.0345 - val_accuracy: 0.9907 - lr: 0.0025\n",
      "Epoch 27/30\n",
      "525/525 [==============================] - 13s 24ms/step - loss: 0.0616 - accuracy: 0.9844 - val_loss: 0.0340 - val_accuracy: 0.9902 - lr: 0.0012\n",
      "Epoch 28/30\n",
      "525/525 [==============================] - 13s 24ms/step - loss: 0.0564 - accuracy: 0.9854 - val_loss: 0.0328 - val_accuracy: 0.9920 - lr: 0.0012\n",
      "Epoch 29/30\n",
      "525/525 [==============================] - 13s 24ms/step - loss: 0.0571 - accuracy: 0.9849 - val_loss: 0.0322 - val_accuracy: 0.9917 - lr: 0.0012\n",
      "Epoch 30/30\n",
      "525/525 [==============================] - 12s 24ms/step - loss: 0.0545 - accuracy: 0.9851 - val_loss: 0.0332 - val_accuracy: 0.9915 - lr: 0.0012\n"
     ]
    }
   ],
   "source": [
    "epochs = 30\n",
    "batch_size = 64\n",
    "\n",
    "history = model.fit(train_datagen.flow(trainX,trainY, batch_size=batch_size),\n",
    "    epochs = epochs, validation_data = (valX , valY) ,\n",
    "    steps_per_epoch=trainX.shape[0] // batch_size,callbacks=callbacks)\n"
   ]
  },
  {
   "cell_type": "code",
   "execution_count": 10,
   "id": "87eba35d",
   "metadata": {},
   "outputs": [
    {
     "data": {
      "image/png": "[encoded data removed]",
      "text/plain": [
       "<Figure size 640x480 with 1 Axes>"
      ]
     },
     "metadata": {},
     "output_type": "display_data"
    },
    {
     "data": {
      "image/png": "[encoded data removed]",
      "text/plain": [
       "<Figure size 640x480 with 1 Axes>"
      ]
     },
     "metadata": {},
     "output_type": "display_data"
    }
   ],
   "source": [
    "def plot_graphs(history, string):\n",
    "    plt.plot(history.history[string][1:])\n",
    "    plt.plot(history.history[\"val_\"+string][1:])\n",
    "    plt.xlabel(\"Epochs\")\n",
    "    plt.ylabel(string)\n",
    "    plt.legend([string,\"val_\"+string])\n",
    "    plt.show()\n",
    "plot_graphs(history,'loss')\n",
    "plot_graphs(history,'accuracy')"
   ]
  },
  {
   "cell_type": "code",
   "execution_count": 11,
   "id": "e19e0436",
   "metadata": {},
   "outputs": [
    {
     "name": "stdout",
     "output_type": "stream",
     "text": [
      "875/875 [==============================] - 6s 7ms/step\n"
     ]
    }
   ],
   "source": [
    "results = model.predict(testX)"
   ]
  },
  {
   "cell_type": "code",
   "execution_count": 12,
   "id": "26966b85",
   "metadata": {},
   "outputs": [
    {
     "data": {
      "text/plain": [
       "28000"
      ]
     },
     "execution_count": 12,
     "metadata": {},
     "output_type": "execute_result"
    }
   ],
   "source": [
    "len(results)"
   ]
  },
  {
   "cell_type": "code",
   "execution_count": 13,
   "id": "4583c168",
   "metadata": {},
   "outputs": [],
   "source": [
    "results = np.argmax(results,axis = 1)\n",
    "results = pd.DataFrame({\"ImageId\":[i for i in range(1,28001)], \"Label\":results})\n",
    "results.to_csv(\"results.csv\",index=False)"
   ]
  },
  {
   "cell_type": "code",
   "execution_count": null,
   "id": "31210b3d",
   "metadata": {},
   "outputs": [],
   "source": []
  }
 ],
 "metadata": {
  "kernelspec": {
   "display_name": "Python 3",
   "language": "python",
   "name": "python3"
  },
  "language_info": {
   "codemirror_mode": {
    "name": "ipython",
    "version": 3
   },
   "file_extension": ".py",
   "mimetype": "text/x-python",
   "name": "python",
   "nbconvert_exporter": "python",
   "pygments_lexer": "ipython3",
   "version": "3.8.16"
  }
 },
 "nbformat": 4,
 "nbformat_minor": 5
}
